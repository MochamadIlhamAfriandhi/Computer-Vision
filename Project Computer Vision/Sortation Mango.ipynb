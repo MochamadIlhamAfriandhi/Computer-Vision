{
 "cells": [
  {
   "cell_type": "code",
   "execution_count": 58,
   "metadata": {},
   "outputs": [],
   "source": [
    "#Input Library\n",
    "import cv2"
   ]
  },
  {
   "cell_type": "code",
   "execution_count": 59,
   "metadata": {},
   "outputs": [],
   "source": [
    "#Input Gambar\n",
    "gambar = cv2.imread('./mangga gincu.jpg')"
   ]
  },
  {
   "cell_type": "code",
   "execution_count": 60,
   "metadata": {},
   "outputs": [],
   "source": [
    "#convert RGB to HSV\n",
    "gambar_hsv = cv2.cvtColor(gambar, cv2.COLOR_BGR2HSV)\n",
    "\n",
    "#convert RGB to Grayscale\n",
    "gambar_gray = cv2.cvtColor(gambar, cv2.COLOR_BGR2GRAY)"
   ]
  },
  {
   "cell_type": "code",
   "execution_count": 61,
   "metadata": {},
   "outputs": [
    {
     "data": {
      "text/plain": [
       "<function destroyAllWindows>"
      ]
     },
     "execution_count": 61,
     "metadata": {},
     "output_type": "execute_result"
    }
   ],
   "source": [
    "#Grayscale to Threshold\n",
    "_, threshold = cv2.threshold(gambar_gray, 175, 255, cv2.THRESH_BINARY)\n",
    "\n",
    "#Output\n",
    "cv2.imshow(\"RGB\", gambar)\n",
    "cv2.imshow(\"HSV\", gambar_hsv)\n",
    "cv2.imshow(\"Grayscale\", gambar_gray)\n",
    "cv2.imshow(\"Threshold\", threshold)\n",
    "cv2.waitKey(0)\n",
    "cv2.destroyAllWindows"
   ]
  },
  {
   "cell_type": "code",
   "execution_count": null,
   "metadata": {},
   "outputs": [],
   "source": []
  }
 ],
 "metadata": {
  "kernelspec": {
   "display_name": "Python 3",
   "language": "python",
   "name": "python3"
  },
  "language_info": {
   "codemirror_mode": {
    "name": "ipython",
    "version": 3
   },
   "file_extension": ".py",
   "mimetype": "text/x-python",
   "name": "python",
   "nbconvert_exporter": "python",
   "pygments_lexer": "ipython3",
   "version": "3.8.5"
  }
 },
 "nbformat": 4,
 "nbformat_minor": 4
}
