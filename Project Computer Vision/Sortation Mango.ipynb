{
 "cells": [
  {
   "cell_type": "code",
   "execution_count": null,
   "metadata": {},
   "outputs": [],
   "source": [
    "#Input Library\n",
    "import cv2\n",
    "import numpy as np\n",
    "import matplotlib.pyplot as plt\n",
    "from skimage import morphology\n",
    "from skimage import data"
   ]
  },
  {
   "cell_type": "code",
   "execution_count": null,
   "metadata": {},
   "outputs": [],
   "source": [
    "#Input Gambar\n",
    "gambar = cv2.imread('./mangga gincu.jpg')"
   ]
  },
  {
   "cell_type": "code",
   "execution_count": null,
   "metadata": {},
   "outputs": [],
   "source": [
    "#convert RGB ke HSV\n",
    "gambar_hsv = cv2.cvtColor(gambar, cv2.COLOR_BGR2HSV)\n",
    "\n",
    "#convert RGB ke Grayscale\n",
    "gambar_gray = cv2.cvtColor(gambar, cv2.COLOR_BGR2GRAY)"
   ]
  },
  {
   "cell_type": "code",
   "execution_count": null,
   "metadata": {},
   "outputs": [],
   "source": [
    "#Grayscale ke Threshold\n",
    "_, threshold = cv2.threshold(gambar_gray, 225, 255, cv2.THRESH_BINARY)\n",
    "\n",
    "#HSV ke Color Segmentation"
   ]
  },
  {
   "cell_type": "code",
   "execution_count": null,
   "metadata": {},
   "outputs": [],
   "source": [
    "#Threshold ke Image Morphology\n",
    "for i in range(1):\n",
    "    threshold_morphology = morphology.binary_dilation(threshold)\n",
    "\n",
    "plt.imshow(threshold_morphology)"
   ]
  },
  {
   "cell_type": "code",
   "execution_count": null,
   "metadata": {},
   "outputs": [],
   "source": [
    "#Find Contours\n",
    "contours, hierarchy = cv2.findContours(threshold_morphology, cv2.RETR_TREE, cv2.CHAIN_APPROX_SIMPLE)\n",
    "gambar_contours = np.zeros(gambar.shape)\n",
    "cv2.drawContours(gambar_contours, contours, -1, (0,255,0), 3)\n",
    "cv2.imwrite('./contours.png', gambar_contours)"
   ]
  },
  {
   "cell_type": "code",
   "execution_count": null,
   "metadata": {},
   "outputs": [],
   "source": [
    "#Output\n",
    "cv2.imshow(\"RGB\", gambar)\n",
    "cv2.imshow(\"HSV\", gambar_hsv)\n",
    "cv2.imshow(\"Grayscale\", gambar_gray)\n",
    "cv2.imshow(\"Threshold\", threshold)\n",
    "cv2.waitKey(0)\n",
    "cv2.destroyAllWindows"
   ]
  },
  {
   "cell_type": "code",
   "execution_count": null,
   "metadata": {},
   "outputs": [],
   "source": []
  }
 ],
 "metadata": {
  "kernelspec": {
   "display_name": "Python 3",
   "language": "python",
   "name": "python3"
  },
  "language_info": {
   "codemirror_mode": {
    "name": "ipython",
    "version": 3
   },
   "file_extension": ".py",
   "mimetype": "text/x-python",
   "name": "python",
   "nbconvert_exporter": "python",
   "pygments_lexer": "ipython3",
   "version": "3.8.5"
  }
 },
 "nbformat": 4,
 "nbformat_minor": 4
}
